{
 "cells": [
  {
   "cell_type": "code",
   "execution_count": 22,
   "metadata": {},
   "outputs": [],
   "source": [
    "import numpy as np\n",
    "import pandas as pd\n",
    "import seaborn as sns\n",
    "import matplotlib.pyplot as plt\n",
    "from sklearn.model_selection import train_test_split\n",
    "from sklearn.preprocessing import MinMaxScaler"
   ]
  },
  {
   "cell_type": "code",
   "execution_count": 31,
   "metadata": {},
   "outputs": [],
   "source": [
    "###### Importing Data  #######\n",
    "\n",
    "df=pd.read_excel('D:/DR/Jupyter Files/Data001.xlsx',header=1)\n",
    "\n",
    "\n",
    "###### DataFrames and Analysis  #######\n",
    "\n",
    "df=df[['Inj Qw (bbl/day)','Prod Qo (bbl/day)','Prod Well Block Pressure (psi)']]\n",
    "df.drop(0,axis=0, inplace=True)\n",
    "df.drop(133,axis=0, inplace=True)\n",
    "\n",
    "nn_df1 = pd.to_numeric(df['Inj Qw (bbl/day)'])\n",
    "nn_df2 = pd.to_numeric(df['Prod Qo (bbl/day)'])\n",
    "nn_df3 = pd.to_numeric(df['Prod Well Block Pressure (psi)'])\n",
    "nn_df = pd.concat([nn_df1, nn_df2, nn_df3], axis=1)\n",
    "\n",
    "#sns.heatmap(nn_df.corr(),annot=False,cmap='RdBu',vmin=0)"
   ]
  },
  {
   "cell_type": "code",
   "execution_count": 24,
   "metadata": {},
   "outputs": [
    {
     "data": {
      "text/plain": [
       "<tensorflow.python.keras.callbacks.History at 0x292c33ae608>"
      ]
     },
     "execution_count": 24,
     "metadata": {},
     "output_type": "execute_result"
    }
   ],
   "source": [
    "####### Data Processing ########\n",
    "\n",
    "X=nn_df.drop('Prod Qo (bbl/day)',axis=1).values\n",
    "y=nn_df['Prod Qo (bbl/day)'].values\n",
    "\n",
    "X_train, X_test, y_train, y_test = train_test_split(X, y, test_size=0.3, random_state=101) ##Creation of training and test tests\n",
    "\n",
    "scaler = MinMaxScaler()\n",
    "X_train = scaler.fit_transform(X_train)    ## Scaling training set\n",
    "X_test = scaler.transform(X_test)          ## Scaling test set\n",
    "\n",
    "####### Creating NN Layers  #######\n",
    "\n",
    "import tensorflow.keras.backend as K\n",
    "from tensorflow.keras.optimizers import Adam\n",
    "from tensorflow.keras.models import Sequential\n",
    "from tensorflow.keras.layers import Dense\n",
    "\n",
    "model = Sequential()\n",
    "\n",
    "model.add(Dense(3, activation='relu')) ## Rectified Linear Unit(RELU) chosen as activation function\n",
    "model.add(Dense(4, activation='relu'))\n",
    "model.add(Dense(3, activation='relu'))\n",
    "model.add(Dense(1))\n",
    "\n",
    "model.compile(optimizer = Adam(lr=0.5), loss='mse') ## Adam optimization used instead of Gradiant Descend\n",
    "\n",
    "####### Fitting of Neural Network to training data  ########\n",
    "\n",
    "model.fit(x=X_train,y=y_train, validation_data=(X_test,y_test),batch_size=30,epochs=500,verbose=0) ## Test data(y_test) used to validate results and compare losses"
   ]
  },
  {
   "cell_type": "code",
   "execution_count": null,
   "metadata": {},
   "outputs": [],
   "source": []
  },
  {
   "cell_type": "code",
   "execution_count": 25,
   "metadata": {},
   "outputs": [
    {
     "data": {
      "text/plain": [
       "<AxesSubplot:>"
      ]
     },
     "execution_count": 25,
     "metadata": {},
     "output_type": "execute_result"
    },
    {
     "data": {
      "image/png": "[encoded data removed]",
      "text/plain": [
       "<Figure size 432x288 with 1 Axes>"
      ]
     },
     "metadata": {
      "needs_background": "light"
     },
     "output_type": "display_data"
    }
   ],
   "source": [
    "####### Change in loss with epoch  ########\n",
    "\n",
    "losses = pd.DataFrame(model.history.history)\n",
    "losses.plot()"
   ]
  },
  {
   "cell_type": "code",
   "execution_count": 26,
   "metadata": {},
   "outputs": [],
   "source": [
    "####### Testing of Neural Network  #######\n",
    "\n",
    "from sklearn.metrics import mean_squared_error, mean_absolute_error, explained_variance_score\n",
    "predictions = model.predict(X_test)"
   ]
  },
  {
   "cell_type": "code",
   "execution_count": 29,
   "metadata": {},
   "outputs": [
    {
     "data": {
      "text/plain": [
       "77.47342224121094"
      ]
     },
     "execution_count": 29,
     "metadata": {},
     "output_type": "execute_result"
    }
   ],
   "source": [
    "mean_absolute_error(y_test,predictions) # Around 77 units deviation from expected flow rate"
   ]
  },
  {
   "cell_type": "code",
   "execution_count": 30,
   "metadata": {},
   "outputs": [
    {
     "data": {
      "text/plain": [
       "0.9999948618819738"
      ]
     },
     "execution_count": 30,
     "metadata": {},
     "output_type": "execute_result"
    }
   ],
   "source": [
    "explained_variance_score(y_test,predictions) # EVS score close to 1 indicates high accuracy"
   ]
  }
 ],
 "metadata": {
  "kernelspec": {
   "display_name": "Python 3",
   "language": "python",
   "name": "python3"
  },
  "language_info": {
   "codemirror_mode": {
    "name": "ipython",
    "version": 3
   },
   "file_extension": ".py",
   "mimetype": "text/x-python",
   "name": "python",
   "nbconvert_exporter": "python",
   "pygments_lexer": "ipython3",
   "version": "3.7.7"
  }
 },
 "nbformat": 4,
 "nbformat_minor": 4
}
